{
 "cells": [
  {
   "cell_type": "code",
   "execution_count": 1,
   "id": "cc91441a",
   "metadata": {},
   "outputs": [],
   "source": [
    "import pandas as pd\n"
   ]
  },
  {
   "cell_type": "markdown",
   "id": "830ac5dc",
   "metadata": {},
   "source": [
    "# Extract Data"
   ]
  },
  {
   "cell_type": "code",
   "execution_count": 2,
   "id": "970098da",
   "metadata": {},
   "outputs": [],
   "source": [
    "#Reading the dataframe\n",
    "data = pd.read_csv('all_stocks_5yr.csv')"
   ]
  },
  {
   "cell_type": "code",
   "execution_count": 3,
   "id": "258f6ad0",
   "metadata": {},
   "outputs": [
    {
     "data": {
      "text/html": [
       "<div>\n",
       "<style scoped>\n",
       "    .dataframe tbody tr th:only-of-type {\n",
       "        vertical-align: middle;\n",
       "    }\n",
       "\n",
       "    .dataframe tbody tr th {\n",
       "        vertical-align: top;\n",
       "    }\n",
       "\n",
       "    .dataframe thead th {\n",
       "        text-align: right;\n",
       "    }\n",
       "</style>\n",
       "<table border=\"1\" class=\"dataframe\">\n",
       "  <thead>\n",
       "    <tr style=\"text-align: right;\">\n",
       "      <th></th>\n",
       "      <th>date</th>\n",
       "      <th>open</th>\n",
       "      <th>high</th>\n",
       "      <th>low</th>\n",
       "      <th>close</th>\n",
       "      <th>volume</th>\n",
       "      <th>Name</th>\n",
       "    </tr>\n",
       "  </thead>\n",
       "  <tbody>\n",
       "    <tr>\n",
       "      <th>0</th>\n",
       "      <td>2013-02-08</td>\n",
       "      <td>15.07</td>\n",
       "      <td>15.12</td>\n",
       "      <td>14.63</td>\n",
       "      <td>14.75</td>\n",
       "      <td>8407500</td>\n",
       "      <td>AAL</td>\n",
       "    </tr>\n",
       "    <tr>\n",
       "      <th>1</th>\n",
       "      <td>2013-02-11</td>\n",
       "      <td>14.89</td>\n",
       "      <td>15.01</td>\n",
       "      <td>14.26</td>\n",
       "      <td>14.46</td>\n",
       "      <td>8882000</td>\n",
       "      <td>AAL</td>\n",
       "    </tr>\n",
       "    <tr>\n",
       "      <th>2</th>\n",
       "      <td>2013-02-12</td>\n",
       "      <td>14.45</td>\n",
       "      <td>14.51</td>\n",
       "      <td>14.10</td>\n",
       "      <td>14.27</td>\n",
       "      <td>8126000</td>\n",
       "      <td>AAL</td>\n",
       "    </tr>\n",
       "    <tr>\n",
       "      <th>3</th>\n",
       "      <td>2013-02-13</td>\n",
       "      <td>14.30</td>\n",
       "      <td>14.94</td>\n",
       "      <td>14.25</td>\n",
       "      <td>14.66</td>\n",
       "      <td>10259500</td>\n",
       "      <td>AAL</td>\n",
       "    </tr>\n",
       "    <tr>\n",
       "      <th>4</th>\n",
       "      <td>2013-02-14</td>\n",
       "      <td>14.94</td>\n",
       "      <td>14.96</td>\n",
       "      <td>13.16</td>\n",
       "      <td>13.99</td>\n",
       "      <td>31879900</td>\n",
       "      <td>AAL</td>\n",
       "    </tr>\n",
       "    <tr>\n",
       "      <th>...</th>\n",
       "      <td>...</td>\n",
       "      <td>...</td>\n",
       "      <td>...</td>\n",
       "      <td>...</td>\n",
       "      <td>...</td>\n",
       "      <td>...</td>\n",
       "      <td>...</td>\n",
       "    </tr>\n",
       "    <tr>\n",
       "      <th>619035</th>\n",
       "      <td>2018-02-01</td>\n",
       "      <td>76.84</td>\n",
       "      <td>78.27</td>\n",
       "      <td>76.69</td>\n",
       "      <td>77.82</td>\n",
       "      <td>2982259</td>\n",
       "      <td>ZTS</td>\n",
       "    </tr>\n",
       "    <tr>\n",
       "      <th>619036</th>\n",
       "      <td>2018-02-02</td>\n",
       "      <td>77.53</td>\n",
       "      <td>78.12</td>\n",
       "      <td>76.73</td>\n",
       "      <td>76.78</td>\n",
       "      <td>2595187</td>\n",
       "      <td>ZTS</td>\n",
       "    </tr>\n",
       "    <tr>\n",
       "      <th>619037</th>\n",
       "      <td>2018-02-05</td>\n",
       "      <td>76.64</td>\n",
       "      <td>76.92</td>\n",
       "      <td>73.18</td>\n",
       "      <td>73.83</td>\n",
       "      <td>2962031</td>\n",
       "      <td>ZTS</td>\n",
       "    </tr>\n",
       "    <tr>\n",
       "      <th>619038</th>\n",
       "      <td>2018-02-06</td>\n",
       "      <td>72.74</td>\n",
       "      <td>74.56</td>\n",
       "      <td>72.13</td>\n",
       "      <td>73.27</td>\n",
       "      <td>4924323</td>\n",
       "      <td>ZTS</td>\n",
       "    </tr>\n",
       "    <tr>\n",
       "      <th>619039</th>\n",
       "      <td>2018-02-07</td>\n",
       "      <td>72.70</td>\n",
       "      <td>75.00</td>\n",
       "      <td>72.69</td>\n",
       "      <td>73.86</td>\n",
       "      <td>4534912</td>\n",
       "      <td>ZTS</td>\n",
       "    </tr>\n",
       "  </tbody>\n",
       "</table>\n",
       "<p>619040 rows × 7 columns</p>\n",
       "</div>"
      ],
      "text/plain": [
       "              date   open   high    low  close    volume Name\n",
       "0       2013-02-08  15.07  15.12  14.63  14.75   8407500  AAL\n",
       "1       2013-02-11  14.89  15.01  14.26  14.46   8882000  AAL\n",
       "2       2013-02-12  14.45  14.51  14.10  14.27   8126000  AAL\n",
       "3       2013-02-13  14.30  14.94  14.25  14.66  10259500  AAL\n",
       "4       2013-02-14  14.94  14.96  13.16  13.99  31879900  AAL\n",
       "...            ...    ...    ...    ...    ...       ...  ...\n",
       "619035  2018-02-01  76.84  78.27  76.69  77.82   2982259  ZTS\n",
       "619036  2018-02-02  77.53  78.12  76.73  76.78   2595187  ZTS\n",
       "619037  2018-02-05  76.64  76.92  73.18  73.83   2962031  ZTS\n",
       "619038  2018-02-06  72.74  74.56  72.13  73.27   4924323  ZTS\n",
       "619039  2018-02-07  72.70  75.00  72.69  73.86   4534912  ZTS\n",
       "\n",
       "[619040 rows x 7 columns]"
      ]
     },
     "execution_count": 3,
     "metadata": {},
     "output_type": "execute_result"
    }
   ],
   "source": [
    "#Viewing the dataframe\n",
    "data"
   ]
  },
  {
   "cell_type": "markdown",
   "id": "a501d590",
   "metadata": {},
   "source": [
    "# Analyzing the database"
   ]
  },
  {
   "cell_type": "code",
   "execution_count": 4,
   "id": "fe26db88",
   "metadata": {},
   "outputs": [
    {
     "data": {
      "text/plain": [
       "date      619040\n",
       "open      619029\n",
       "high      619032\n",
       "low       619032\n",
       "close     619040\n",
       "volume    619040\n",
       "Name      619040\n",
       "dtype: int64"
      ]
     },
     "execution_count": 4,
     "metadata": {},
     "output_type": "execute_result"
    }
   ],
   "source": [
    "#Number of records in the worksheet\n",
    "data.count()"
   ]
  },
  {
   "cell_type": "code",
   "execution_count": 30,
   "id": "ea239072",
   "metadata": {},
   "outputs": [
    {
     "name": "stdout",
     "output_type": "stream",
     "text": [
      "Number of different companies in the dataframe: 505\n"
     ]
    }
   ],
   "source": [
    "#Number of different companies in the dataframe\n",
    "\n",
    "print(\"Number of different companies in the dataframe:\", data['Name'].nunique())"
   ]
  },
  {
   "cell_type": "code",
   "execution_count": 29,
   "id": "6b64b005",
   "metadata": {},
   "outputs": [
    {
     "name": "stdout",
     "output_type": "stream",
     "text": [
      "The frequency that the closing price of a stock is higher than the opening price: 51.52655724993538 %\n"
     ]
    }
   ],
   "source": [
    "#Frequency that the closing price of a stock is higher than the opening price\n",
    "frequency = (data['close'] > data['open']).mean()\n",
    "\n",
    "print(\"The frequency that the closing price of a stock is higher than the opening price:\", frequency*100,\"%\")"
   ]
  },
  {
   "cell_type": "code",
   "execution_count": 8,
   "id": "fa5dd7bc",
   "metadata": {},
   "outputs": [
    {
     "data": {
      "text/plain": [
       "date      2018-02-07\n",
       "open          179.37\n",
       "high           180.1\n",
       "low           178.25\n",
       "close         179.26\n",
       "volume     266833581\n",
       "Name            AAPL\n",
       "dtype: object"
      ]
     },
     "execution_count": 8,
     "metadata": {},
     "output_type": "execute_result"
    }
   ],
   "source": [
    "#Highest value of Apple stock (AAPL) in history\n",
    "data.loc[data['Name'] == 'AAPL'].max()"
   ]
  },
  {
   "cell_type": "code",
   "execution_count": 31,
   "id": "67bd1fad",
   "metadata": {},
   "outputs": [
    {
     "name": "stdout",
     "output_type": "stream",
     "text": [
      "The stock that has the highest volatility: PCLN\n"
     ]
    }
   ],
   "source": [
    "#Which stock has the highest volatility? (standard deviation)\n",
    "standard_deviation = data.groupby('Name')['close'].std().idxmax()\n",
    "print(\"The stock that has the highest volatility:\", standard_deviation)"
   ]
  },
  {
   "cell_type": "code",
   "execution_count": 32,
   "id": "b600e039",
   "metadata": {},
   "outputs": [
    {
     "name": "stdout",
     "output_type": "stream",
     "text": [
      "The most traded stock on the stock exchange: BAC\n"
     ]
    }
   ],
   "source": [
    "#What is the most traded stock on the stock exchange, by volume of transactions?\n",
    "highest_trading = data.groupby('Name')['volume'].sum().idxmax()\n",
    "\n",
    "print(\"The most traded stock on the stock exchange:\", highest_trading)"
   ]
  },
  {
   "cell_type": "code",
   "execution_count": 33,
   "id": "3a510fa4",
   "metadata": {},
   "outputs": [
    {
     "name": "stdout",
     "output_type": "stream",
     "text": [
      "Number of shares that start with the letter A: 59\n"
     ]
    }
   ],
   "source": [
    "#How many stocks start with the letter “A”?\n",
    "start_a = len(data.loc[data['Name'].str.startswith('A'), 'Name'].unique())\n",
    "\n",
    "print(\"Number of shares that start with the letter A:\", start_a)"
   ]
  },
  {
   "cell_type": "code",
   "execution_count": 34,
   "id": "bb865c69",
   "metadata": {},
   "outputs": [
    {
     "name": "stdout",
     "output_type": "stream",
     "text": [
      "The frequency the highest price of the day for the stock is also the closing price: 1.1986301369863013 %\n"
     ]
    }
   ],
   "source": [
    "#How often is the highest price of the day for the stock also the closing price?\n",
    "frequency2 = (data['high'] == data['close']).mean()\n",
    "frequency2 = frequency2*100\n",
    "\n",
    "print(\"The frequency the highest price of the day for the stock is also the closing price:\", frequency2,\"%\")"
   ]
  },
  {
   "cell_type": "code",
   "execution_count": 39,
   "id": "f2aa4a82",
   "metadata": {},
   "outputs": [
    {
     "name": "stdout",
     "output_type": "stream",
     "text": [
      "Number of unique items by name length:\n",
      "Name\n",
      "1     10\n",
      "2     50\n",
      "3    323\n",
      "4    117\n",
      "5      5\n",
      "Name: Name, dtype: int64\n"
     ]
    }
   ],
   "source": [
    "#How many shares have 1, 2, 3, 4 and 5 characters in their name respectively?\n",
    "\n",
    "cont_unique = data.groupby(data['Name'].str.len())['Name'].nunique()\n",
    "\n",
    "print(\"Number of unique items by name length:\")\n",
    "print(cont_unique)"
   ]
  },
  {
   "cell_type": "code",
   "execution_count": 41,
   "id": "f9bc5aca",
   "metadata": {},
   "outputs": [
    {
     "name": "stdout",
     "output_type": "stream",
     "text": [
      "The least traded stock on the stock exchange: APTV\n"
     ]
    }
   ],
   "source": [
    "#What is the least traded stock on the stock exchange, in transaction volume?\n",
    "\n",
    "acao_menos_negociada = data.groupby('Name')['volume'].sum().idxmin()\n",
    "print(\"The least traded stock on the stock exchange:\", acao_menos_negociada)"
   ]
  },
  {
   "cell_type": "markdown",
   "id": "6bce53da",
   "metadata": {},
   "source": [
    "# Analytics on a specific company"
   ]
  },
  {
   "cell_type": "markdown",
   "id": "fb92257f",
   "metadata": {},
   "source": [
    "We will use the company Apple (APPL) as the basis for our analyzes"
   ]
  },
  {
   "cell_type": "code",
   "execution_count": 5,
   "id": "12535dd4",
   "metadata": {},
   "outputs": [
    {
     "data": {
      "text/plain": [
       "date      1259\n",
       "open      1259\n",
       "high      1259\n",
       "low       1259\n",
       "close     1259\n",
       "volume    1259\n",
       "Name      1259\n",
       "dtype: int64"
      ]
     },
     "execution_count": 5,
     "metadata": {},
     "output_type": "execute_result"
    }
   ],
   "source": [
    "#Number of registrations for Apple (AAPL)\n",
    "data.loc[data['Name'] == 'AAPL'].count()"
   ]
  },
  {
   "cell_type": "code",
   "execution_count": 36,
   "id": "1e8fb2c2",
   "metadata": {},
   "outputs": [
    {
     "data": {
      "text/html": [
       "<div>\n",
       "<style scoped>\n",
       "    .dataframe tbody tr th:only-of-type {\n",
       "        vertical-align: middle;\n",
       "    }\n",
       "\n",
       "    .dataframe tbody tr th {\n",
       "        vertical-align: top;\n",
       "    }\n",
       "\n",
       "    .dataframe thead th {\n",
       "        text-align: right;\n",
       "    }\n",
       "</style>\n",
       "<table border=\"1\" class=\"dataframe\">\n",
       "  <thead>\n",
       "    <tr style=\"text-align: right;\">\n",
       "      <th></th>\n",
       "      <th>date</th>\n",
       "      <th>open</th>\n",
       "      <th>high</th>\n",
       "      <th>low</th>\n",
       "      <th>close</th>\n",
       "      <th>volume</th>\n",
       "      <th>Name</th>\n",
       "    </tr>\n",
       "  </thead>\n",
       "  <tbody>\n",
       "    <tr>\n",
       "      <th>1259</th>\n",
       "      <td>2013-02-08</td>\n",
       "      <td>67.7142</td>\n",
       "      <td>68.4014</td>\n",
       "      <td>66.8928</td>\n",
       "      <td>67.8542</td>\n",
       "      <td>158168416</td>\n",
       "      <td>AAPL</td>\n",
       "    </tr>\n",
       "    <tr>\n",
       "      <th>1260</th>\n",
       "      <td>2013-02-11</td>\n",
       "      <td>68.0714</td>\n",
       "      <td>69.2771</td>\n",
       "      <td>67.6071</td>\n",
       "      <td>68.5614</td>\n",
       "      <td>129029425</td>\n",
       "      <td>AAPL</td>\n",
       "    </tr>\n",
       "    <tr>\n",
       "      <th>1261</th>\n",
       "      <td>2013-02-12</td>\n",
       "      <td>68.5014</td>\n",
       "      <td>68.9114</td>\n",
       "      <td>66.8205</td>\n",
       "      <td>66.8428</td>\n",
       "      <td>151829363</td>\n",
       "      <td>AAPL</td>\n",
       "    </tr>\n",
       "    <tr>\n",
       "      <th>1262</th>\n",
       "      <td>2013-02-13</td>\n",
       "      <td>66.7442</td>\n",
       "      <td>67.6628</td>\n",
       "      <td>66.1742</td>\n",
       "      <td>66.7156</td>\n",
       "      <td>118721995</td>\n",
       "      <td>AAPL</td>\n",
       "    </tr>\n",
       "    <tr>\n",
       "      <th>1263</th>\n",
       "      <td>2013-02-14</td>\n",
       "      <td>66.3599</td>\n",
       "      <td>67.3771</td>\n",
       "      <td>66.2885</td>\n",
       "      <td>66.6556</td>\n",
       "      <td>88809154</td>\n",
       "      <td>AAPL</td>\n",
       "    </tr>\n",
       "    <tr>\n",
       "      <th>...</th>\n",
       "      <td>...</td>\n",
       "      <td>...</td>\n",
       "      <td>...</td>\n",
       "      <td>...</td>\n",
       "      <td>...</td>\n",
       "      <td>...</td>\n",
       "      <td>...</td>\n",
       "    </tr>\n",
       "    <tr>\n",
       "      <th>2513</th>\n",
       "      <td>2018-02-01</td>\n",
       "      <td>167.1650</td>\n",
       "      <td>168.6200</td>\n",
       "      <td>166.7600</td>\n",
       "      <td>167.7800</td>\n",
       "      <td>47230787</td>\n",
       "      <td>AAPL</td>\n",
       "    </tr>\n",
       "    <tr>\n",
       "      <th>2514</th>\n",
       "      <td>2018-02-02</td>\n",
       "      <td>166.0000</td>\n",
       "      <td>166.8000</td>\n",
       "      <td>160.1000</td>\n",
       "      <td>160.5000</td>\n",
       "      <td>86593825</td>\n",
       "      <td>AAPL</td>\n",
       "    </tr>\n",
       "    <tr>\n",
       "      <th>2515</th>\n",
       "      <td>2018-02-05</td>\n",
       "      <td>159.1000</td>\n",
       "      <td>163.8800</td>\n",
       "      <td>156.0000</td>\n",
       "      <td>156.4900</td>\n",
       "      <td>72738522</td>\n",
       "      <td>AAPL</td>\n",
       "    </tr>\n",
       "    <tr>\n",
       "      <th>2516</th>\n",
       "      <td>2018-02-06</td>\n",
       "      <td>154.8300</td>\n",
       "      <td>163.7200</td>\n",
       "      <td>154.0000</td>\n",
       "      <td>163.0300</td>\n",
       "      <td>68243838</td>\n",
       "      <td>AAPL</td>\n",
       "    </tr>\n",
       "    <tr>\n",
       "      <th>2517</th>\n",
       "      <td>2018-02-07</td>\n",
       "      <td>163.0850</td>\n",
       "      <td>163.4000</td>\n",
       "      <td>159.0685</td>\n",
       "      <td>159.5400</td>\n",
       "      <td>51608580</td>\n",
       "      <td>AAPL</td>\n",
       "    </tr>\n",
       "  </tbody>\n",
       "</table>\n",
       "<p>1259 rows × 7 columns</p>\n",
       "</div>"
      ],
      "text/plain": [
       "            date      open      high       low     close     volume  Name\n",
       "1259  2013-02-08   67.7142   68.4014   66.8928   67.8542  158168416  AAPL\n",
       "1260  2013-02-11   68.0714   69.2771   67.6071   68.5614  129029425  AAPL\n",
       "1261  2013-02-12   68.5014   68.9114   66.8205   66.8428  151829363  AAPL\n",
       "1262  2013-02-13   66.7442   67.6628   66.1742   66.7156  118721995  AAPL\n",
       "1263  2013-02-14   66.3599   67.3771   66.2885   66.6556   88809154  AAPL\n",
       "...          ...       ...       ...       ...       ...        ...   ...\n",
       "2513  2018-02-01  167.1650  168.6200  166.7600  167.7800   47230787  AAPL\n",
       "2514  2018-02-02  166.0000  166.8000  160.1000  160.5000   86593825  AAPL\n",
       "2515  2018-02-05  159.1000  163.8800  156.0000  156.4900   72738522  AAPL\n",
       "2516  2018-02-06  154.8300  163.7200  154.0000  163.0300   68243838  AAPL\n",
       "2517  2018-02-07  163.0850  163.4000  159.0685  159.5400   51608580  AAPL\n",
       "\n",
       "[1259 rows x 7 columns]"
      ]
     },
     "execution_count": 36,
     "metadata": {},
     "output_type": "execute_result"
    }
   ],
   "source": [
    "#Creating a dataframe with only Apple data\n",
    "\n",
    "df = data.loc[data['Name'] == 'AAPL']\n",
    "df"
   ]
  },
  {
   "cell_type": "code",
   "execution_count": 37,
   "id": "1f6a2dd8",
   "metadata": {},
   "outputs": [
    {
     "name": "stdout",
     "output_type": "stream",
     "text": [
      "The day did Apple stock rise the most between open and close: 2015-08-24\n"
     ]
    },
    {
     "name": "stderr",
     "output_type": "stream",
     "text": [
      "C:\\Users\\panf\\AppData\\Local\\Temp\\ipykernel_4300\\1136268659.py:4: SettingWithCopyWarning: \n",
      "A value is trying to be set on a copy of a slice from a DataFrame.\n",
      "Try using .loc[row_indexer,col_indexer] = value instead\n",
      "\n",
      "See the caveats in the documentation: https://pandas.pydata.org/pandas-docs/stable/user_guide/indexing.html#returning-a-view-versus-a-copy\n",
      "  df['Aumento'] = (df['close'] - df['open']).abs()\n"
     ]
    }
   ],
   "source": [
    "#On which day did Apple stock rise the most between open and close, absolutely?\n",
    "\n",
    "# 1) Calculate the absolute increase between open and closeo\n",
    "df['Aumento'] = (df['close'] - df['open']).abs()\n",
    "\n",
    "# 2) Find the index of the day when the absolute increase was maximum\n",
    "id_max = df['Aumento'].idxmax()\n",
    "\n",
    "# 4) Get the 'sate' column value corresponding to the maximum index\n",
    "day_max = df.loc[id_max, 'date']\n",
    "\n",
    "print(\"The day did Apple stock rise the most between open and close:\", day_max)"
   ]
  },
  {
   "cell_type": "code",
   "execution_count": 38,
   "id": "baf88532",
   "metadata": {},
   "outputs": [
    {
     "name": "stdout",
     "output_type": "stream",
     "text": [
      "The daily trading volume of AAPL stock: 54047899.73550437\n"
     ]
    }
   ],
   "source": [
    "#On average, what is the daily trading volume of AAPL stock?\n",
    "\n",
    "daily_trading = df['volume'].mean()\n",
    "\n",
    "print(\"The daily trading volume of AAPL stock:\", daily_trading )"
   ]
  }
 ],
 "metadata": {
  "kernelspec": {
   "display_name": "3",
   "language": "python",
   "name": "3"
  },
  "language_info": {
   "codemirror_mode": {
    "name": "ipython",
    "version": 3
   },
   "file_extension": ".py",
   "mimetype": "text/x-python",
   "name": "python",
   "nbconvert_exporter": "python",
   "pygments_lexer": "ipython3",
   "version": "3.9.0"
  }
 },
 "nbformat": 4,
 "nbformat_minor": 5
}
